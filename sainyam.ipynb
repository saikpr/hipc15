{
 "cells": [
  {
   "cell_type": "code",
   "execution_count": null,
   "metadata": {
    "collapsed": false
   },
   "outputs": [],
   "source": [
    "from matplotlib import interactive,use\n",
    "interactive(True)\n",
    "use('Agg')\n",
    "import matplotlib.pyplot as plt\n",
    "import pandas as pd\n",
    "import numpy as np\n",
    "from pandas import Series, DataFrame, Panel\n",
    "from pandas import read_csv, DataFrame\n",
    "import statsmodels.api as sm\n",
    "from statsmodels.iolib.table import SimpleTable\n",
    "from sklearn.metrics import r2_score\n",
    "import ml_metrics as metrics\n",
    "%matplotlib inline "
   ]
  },
  {
   "cell_type": "code",
   "execution_count": null,
   "metadata": {
    "collapsed": false
   },
   "outputs": [],
   "source": [
    "ao = pd.read_csv(\"./sort_weather_data.csv\", delimiter = \",\")\n",
    "df_bananaf= pd.read_csv(\"./data_Banana_Flower.csv\",delimiter=\",\")"
   ]
  },
  {
   "cell_type": "code",
   "execution_count": null,
   "metadata": {
    "collapsed": false
   },
   "outputs": [],
   "source": [
    "print ao[0:2]\n",
    "\n",
    "print df_bananaf[0:2]"
   ]
  },
  {
   "cell_type": "code",
   "execution_count": null,
   "metadata": {
    "collapsed": false
   },
   "outputs": [],
   "source": [
    "ao['time'] = ao['time'].astype('datetime64[ns]')\n",
    "temperature_df=ao.set_index('time').resample('H')['temperature']\n",
    "temperature_series=Series(temperature_df)\n",
    "temperature_series.plot()"
   ]
  },
  {
   "cell_type": "code",
   "execution_count": null,
   "metadata": {
    "collapsed": false
   },
   "outputs": [],
   "source": [
    "df_bananaf['TimeSeries'] = df_bananaf['TimeSeries'].astype('datetime64[ns]')\n",
    "print df_bananaf[0:2]['TimeSeries']\n",
    "df_bananaf=df_bananaf.set_index('TimeSeries').resample('D')['Price']\n",
    "# print df_bananaf\n",
    "bananaf_series=Series(df_bananaf).interpolate()\n",
    "bananaf_series.plot()"
   ]
  },
  {
   "cell_type": "code",
   "execution_count": null,
   "metadata": {
    "collapsed": false
   },
   "outputs": [],
   "source": [
    "p=0\n",
    "q=0\n",
    "d=0\n",
    "\n",
    "\n",
    "for p in range(5):\n",
    "    for d in range(5):\n",
    "        for q in range(5):\n",
    "            print p,q,d\n",
    "            try :\n",
    "                arima_mod=sm.tsa.ARIMA(temperature_series.dropna(),(p,d,q)).fit()\n",
    "                print arima_mod.aic\n",
    "                print arima_mod.bic\n",
    "            except ValueError:\n",
    "                print \"not possible\"\n",
    "                pass\n",
    "\n",
    "          "
   ]
  },
  {
   "cell_type": "code",
   "execution_count": null,
   "metadata": {
    "collapsed": false
   },
   "outputs": [],
   "source": [
    "#Unable to get this to work  \n",
    "\n",
    "def objfunc(order, exog, endog):\n",
    "    from statsmodels.tsa.arima_model import ARIMA\n",
    "    fit = ARIMA(endog, order, exog).fit()\n",
    "    return fit.aic()\n",
    "\n",
    "from scipy.optimize import brute\n",
    "grid = (slice(1, 3, 1), slice(1, 3, 1), slice(1, 3, 1))\n",
    "brute(objfunc, temperature_series.dropna(), args=(exog, endog), finish=None)"
   ]
  }
 ],
 "metadata": {
  "kernelspec": {
   "display_name": "Python 2",
   "language": "python",
   "name": "python2"
  },
  "language_info": {
   "codemirror_mode": {
    "name": "ipython",
    "version": 2
   },
   "file_extension": ".py",
   "mimetype": "text/x-python",
   "name": "python",
   "nbconvert_exporter": "python",
   "pygments_lexer": "ipython2",
   "version": "2.7.5"
  }
 },
 "nbformat": 4,
 "nbformat_minor": 0
}
